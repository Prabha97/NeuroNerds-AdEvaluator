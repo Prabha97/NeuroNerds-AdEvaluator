{
 "cells": [
  {
   "cell_type": "code",
   "execution_count": 1,
   "metadata": {},
   "outputs": [],
   "source": [
    "import pandas as pd\n",
    "import matplotlib.pyplot as plt\n",
    "import numpy as np\n",
    "from sklearn import preprocessing\n",
    "from sklearn.model_selection import train_test_split\n",
    "\n",
    "from sklearn.metrics import classification_report, confusion_matrix, accuracy_score\n",
    "from sklearn.metrics import jaccard_score \n",
    "from sklearn.metrics import f1_score\n",
    "from sklearn.metrics import recall_score\n",
    "from sklearn.metrics import precision_score\n",
    "\n",
    "from sklearn.neighbors import KNeighborsClassifier\n",
    "from sklearn.naive_bayes import GaussianNB\n",
    "from sklearn.linear_model import LogisticRegression\n",
    "from sklearn.svm import SVC\n",
    "from sklearn.ensemble import RandomForestClassifier\n",
    "from sklearn.tree import DecisionTreeClassifier\n",
    "from sklearn.ensemble import ExtraTreesClassifier\n",
    "\n",
    "\n",
    "import pickle\n",
    "import itertools"
   ]
  },
  {
   "cell_type": "code",
   "execution_count": 2,
   "metadata": {},
   "outputs": [],
   "source": [
    "def plot_confusion_matrix(cm, classes,normalize=False, title= 'Confusion Matrix', cmap= plt.cm.Blues):\n",
    "    print(cm)\n",
    "    \n",
    "    plt.imshow(cm, interpolation='nearest', cmap=cmap)\n",
    "    plt.title(title)\n",
    "    plt.colorbar()\n",
    "    tick_marks= np.arange(len(classes))\n",
    "    plt.xticks(tick_marks, classes, rotation=45)\n",
    "    plt.yticks(tick_marks, classes)\n",
    "\n",
    "    fmt = '.2f' if normalize else 'd'\n",
    "    thresh = cm.max() / 2.\n",
    "    for i, j in itertools.product(range(cm.shape[0]), range(cm.shape[1])):\n",
    "        plt.text(j, i, format(cm[i, j], fmt),\n",
    "                     horizontalalignment=\"center\",\n",
    "                 color=\"white\" if cm[i, j] > thresh else \"black\")\n",
    "\n",
    "    plt.tight_layout()\n",
    "    plt.ylabel('True label')\n",
    "    plt.xlabel('Predicted label')"
   ]
  },
  {
   "cell_type": "code",
   "execution_count": 4,
   "metadata": {},
   "outputs": [
    {
     "data": {
      "text/html": [
       "<div>\n",
       "<style scoped>\n",
       "    .dataframe tbody tr th:only-of-type {\n",
       "        vertical-align: middle;\n",
       "    }\n",
       "\n",
       "    .dataframe tbody tr th {\n",
       "        vertical-align: top;\n",
       "    }\n",
       "\n",
       "    .dataframe thead th {\n",
       "        text-align: right;\n",
       "    }\n",
       "</style>\n",
       "<table border=\"1\" class=\"dataframe\">\n",
       "  <thead>\n",
       "    <tr style=\"text-align: right;\">\n",
       "      <th></th>\n",
       "      <th>Gamma_TP10</th>\n",
       "      <th>Beta_TP10</th>\n",
       "      <th>Gamma_AF8</th>\n",
       "      <th>Gamma_TP9</th>\n",
       "      <th>Delta_TP9</th>\n",
       "      <th>Delta_AF8</th>\n",
       "      <th>Delta_TP10</th>\n",
       "      <th>Beta_TP9</th>\n",
       "      <th>Beta_AF8</th>\n",
       "      <th>Beta_AF7</th>\n",
       "      <th>Gamma_AF7</th>\n",
       "      <th>Theta_TP9</th>\n",
       "      <th>Theta_TP10</th>\n",
       "      <th>Theta_AF7</th>\n",
       "      <th>Delta_AF7</th>\n",
       "      <th>Alpha_TP10</th>\n",
       "      <th>Alpha_AF7</th>\n",
       "      <th>Class</th>\n",
       "    </tr>\n",
       "  </thead>\n",
       "  <tbody>\n",
       "    <tr>\n",
       "      <th>0</th>\n",
       "      <td>0.148266</td>\n",
       "      <td>0.504698</td>\n",
       "      <td>-0.368988</td>\n",
       "      <td>-0.006402</td>\n",
       "      <td>0.751643</td>\n",
       "      <td>1.241092</td>\n",
       "      <td>0.434002</td>\n",
       "      <td>0.572833</td>\n",
       "      <td>0.248280</td>\n",
       "      <td>0.360754</td>\n",
       "      <td>-0.266985</td>\n",
       "      <td>0.432456</td>\n",
       "      <td>0.530501</td>\n",
       "      <td>0.364035</td>\n",
       "      <td>1.137732</td>\n",
       "      <td>1.130165</td>\n",
       "      <td>0.212564</td>\n",
       "      <td>2</td>\n",
       "    </tr>\n",
       "    <tr>\n",
       "      <th>1</th>\n",
       "      <td>0.148266</td>\n",
       "      <td>0.504698</td>\n",
       "      <td>-0.424164</td>\n",
       "      <td>-0.006402</td>\n",
       "      <td>0.751643</td>\n",
       "      <td>1.299211</td>\n",
       "      <td>0.434002</td>\n",
       "      <td>0.572833</td>\n",
       "      <td>0.295779</td>\n",
       "      <td>0.360754</td>\n",
       "      <td>-0.266985</td>\n",
       "      <td>0.432456</td>\n",
       "      <td>0.530501</td>\n",
       "      <td>0.364035</td>\n",
       "      <td>1.137732</td>\n",
       "      <td>1.130165</td>\n",
       "      <td>0.212564</td>\n",
       "      <td>2</td>\n",
       "    </tr>\n",
       "    <tr>\n",
       "      <th>2</th>\n",
       "      <td>0.148266</td>\n",
       "      <td>0.504698</td>\n",
       "      <td>-0.389931</td>\n",
       "      <td>-0.006402</td>\n",
       "      <td>0.751643</td>\n",
       "      <td>0.558158</td>\n",
       "      <td>0.434002</td>\n",
       "      <td>0.572833</td>\n",
       "      <td>0.315529</td>\n",
       "      <td>0.194026</td>\n",
       "      <td>-0.343758</td>\n",
       "      <td>0.432456</td>\n",
       "      <td>0.530501</td>\n",
       "      <td>0.287083</td>\n",
       "      <td>1.156090</td>\n",
       "      <td>1.130165</td>\n",
       "      <td>0.457129</td>\n",
       "      <td>2</td>\n",
       "    </tr>\n",
       "    <tr>\n",
       "      <th>3</th>\n",
       "      <td>0.367339</td>\n",
       "      <td>0.690641</td>\n",
       "      <td>-0.330480</td>\n",
       "      <td>0.246398</td>\n",
       "      <td>0.796775</td>\n",
       "      <td>0.994092</td>\n",
       "      <td>0.549118</td>\n",
       "      <td>0.566725</td>\n",
       "      <td>0.273616</td>\n",
       "      <td>0.265951</td>\n",
       "      <td>-0.295449</td>\n",
       "      <td>0.868472</td>\n",
       "      <td>0.769166</td>\n",
       "      <td>0.103581</td>\n",
       "      <td>0.867685</td>\n",
       "      <td>1.306648</td>\n",
       "      <td>0.426305</td>\n",
       "      <td>2</td>\n",
       "    </tr>\n",
       "    <tr>\n",
       "      <th>4</th>\n",
       "      <td>0.403797</td>\n",
       "      <td>0.639526</td>\n",
       "      <td>-0.291605</td>\n",
       "      <td>0.266886</td>\n",
       "      <td>0.775548</td>\n",
       "      <td>1.083485</td>\n",
       "      <td>0.519082</td>\n",
       "      <td>0.675240</td>\n",
       "      <td>0.373702</td>\n",
       "      <td>0.222702</td>\n",
       "      <td>-0.302929</td>\n",
       "      <td>0.784558</td>\n",
       "      <td>0.788158</td>\n",
       "      <td>0.210304</td>\n",
       "      <td>0.786956</td>\n",
       "      <td>1.377811</td>\n",
       "      <td>0.456308</td>\n",
       "      <td>2</td>\n",
       "    </tr>\n",
       "    <tr>\n",
       "      <th>...</th>\n",
       "      <td>...</td>\n",
       "      <td>...</td>\n",
       "      <td>...</td>\n",
       "      <td>...</td>\n",
       "      <td>...</td>\n",
       "      <td>...</td>\n",
       "      <td>...</td>\n",
       "      <td>...</td>\n",
       "      <td>...</td>\n",
       "      <td>...</td>\n",
       "      <td>...</td>\n",
       "      <td>...</td>\n",
       "      <td>...</td>\n",
       "      <td>...</td>\n",
       "      <td>...</td>\n",
       "      <td>...</td>\n",
       "      <td>...</td>\n",
       "      <td>...</td>\n",
       "    </tr>\n",
       "    <tr>\n",
       "      <th>10966</th>\n",
       "      <td>1.286465</td>\n",
       "      <td>1.295115</td>\n",
       "      <td>0.437843</td>\n",
       "      <td>0.836466</td>\n",
       "      <td>0.986110</td>\n",
       "      <td>0.591422</td>\n",
       "      <td>0.967558</td>\n",
       "      <td>0.954669</td>\n",
       "      <td>0.442463</td>\n",
       "      <td>0.772369</td>\n",
       "      <td>0.777882</td>\n",
       "      <td>0.809593</td>\n",
       "      <td>0.818000</td>\n",
       "      <td>0.611749</td>\n",
       "      <td>0.480529</td>\n",
       "      <td>1.064631</td>\n",
       "      <td>0.749836</td>\n",
       "      <td>0</td>\n",
       "    </tr>\n",
       "    <tr>\n",
       "      <th>10967</th>\n",
       "      <td>1.283718</td>\n",
       "      <td>1.263483</td>\n",
       "      <td>0.355064</td>\n",
       "      <td>0.948936</td>\n",
       "      <td>0.905541</td>\n",
       "      <td>0.190887</td>\n",
       "      <td>0.845574</td>\n",
       "      <td>0.990603</td>\n",
       "      <td>0.342457</td>\n",
       "      <td>0.382008</td>\n",
       "      <td>0.159719</td>\n",
       "      <td>0.728109</td>\n",
       "      <td>0.762140</td>\n",
       "      <td>-0.141964</td>\n",
       "      <td>-0.027661</td>\n",
       "      <td>1.064631</td>\n",
       "      <td>0.157860</td>\n",
       "      <td>0</td>\n",
       "    </tr>\n",
       "    <tr>\n",
       "      <th>10968</th>\n",
       "      <td>1.266396</td>\n",
       "      <td>1.067333</td>\n",
       "      <td>0.265158</td>\n",
       "      <td>0.951014</td>\n",
       "      <td>0.927426</td>\n",
       "      <td>0.143809</td>\n",
       "      <td>0.309474</td>\n",
       "      <td>0.991058</td>\n",
       "      <td>0.388545</td>\n",
       "      <td>0.329413</td>\n",
       "      <td>0.137033</td>\n",
       "      <td>0.745079</td>\n",
       "      <td>0.503118</td>\n",
       "      <td>0.011965</td>\n",
       "      <td>0.148461</td>\n",
       "      <td>0.766170</td>\n",
       "      <td>0.349058</td>\n",
       "      <td>0</td>\n",
       "    </tr>\n",
       "    <tr>\n",
       "      <th>10969</th>\n",
       "      <td>1.202924</td>\n",
       "      <td>1.039346</td>\n",
       "      <td>0.232079</td>\n",
       "      <td>1.041569</td>\n",
       "      <td>0.859555</td>\n",
       "      <td>0.118321</td>\n",
       "      <td>0.143381</td>\n",
       "      <td>1.024632</td>\n",
       "      <td>0.441610</td>\n",
       "      <td>0.306938</td>\n",
       "      <td>0.166566</td>\n",
       "      <td>0.669280</td>\n",
       "      <td>0.404191</td>\n",
       "      <td>0.088193</td>\n",
       "      <td>0.190864</td>\n",
       "      <td>0.723669</td>\n",
       "      <td>0.328004</td>\n",
       "      <td>0</td>\n",
       "    </tr>\n",
       "    <tr>\n",
       "      <th>10970</th>\n",
       "      <td>1.202924</td>\n",
       "      <td>1.039346</td>\n",
       "      <td>0.041496</td>\n",
       "      <td>1.063996</td>\n",
       "      <td>0.934166</td>\n",
       "      <td>0.046701</td>\n",
       "      <td>0.143381</td>\n",
       "      <td>1.027676</td>\n",
       "      <td>0.459026</td>\n",
       "      <td>0.218546</td>\n",
       "      <td>0.094236</td>\n",
       "      <td>0.716854</td>\n",
       "      <td>0.404191</td>\n",
       "      <td>0.194453</td>\n",
       "      <td>0.348056</td>\n",
       "      <td>0.723669</td>\n",
       "      <td>0.298240</td>\n",
       "      <td>0</td>\n",
       "    </tr>\n",
       "  </tbody>\n",
       "</table>\n",
       "<p>10971 rows × 18 columns</p>\n",
       "</div>"
      ],
      "text/plain": [
       "       Gamma_TP10  Beta_TP10  Gamma_AF8  Gamma_TP9  Delta_TP9  Delta_AF8  \\\n",
       "0        0.148266   0.504698  -0.368988  -0.006402   0.751643   1.241092   \n",
       "1        0.148266   0.504698  -0.424164  -0.006402   0.751643   1.299211   \n",
       "2        0.148266   0.504698  -0.389931  -0.006402   0.751643   0.558158   \n",
       "3        0.367339   0.690641  -0.330480   0.246398   0.796775   0.994092   \n",
       "4        0.403797   0.639526  -0.291605   0.266886   0.775548   1.083485   \n",
       "...           ...        ...        ...        ...        ...        ...   \n",
       "10966    1.286465   1.295115   0.437843   0.836466   0.986110   0.591422   \n",
       "10967    1.283718   1.263483   0.355064   0.948936   0.905541   0.190887   \n",
       "10968    1.266396   1.067333   0.265158   0.951014   0.927426   0.143809   \n",
       "10969    1.202924   1.039346   0.232079   1.041569   0.859555   0.118321   \n",
       "10970    1.202924   1.039346   0.041496   1.063996   0.934166   0.046701   \n",
       "\n",
       "       Delta_TP10  Beta_TP9  Beta_AF8  Beta_AF7  Gamma_AF7  Theta_TP9  \\\n",
       "0        0.434002  0.572833  0.248280  0.360754  -0.266985   0.432456   \n",
       "1        0.434002  0.572833  0.295779  0.360754  -0.266985   0.432456   \n",
       "2        0.434002  0.572833  0.315529  0.194026  -0.343758   0.432456   \n",
       "3        0.549118  0.566725  0.273616  0.265951  -0.295449   0.868472   \n",
       "4        0.519082  0.675240  0.373702  0.222702  -0.302929   0.784558   \n",
       "...           ...       ...       ...       ...        ...        ...   \n",
       "10966    0.967558  0.954669  0.442463  0.772369   0.777882   0.809593   \n",
       "10967    0.845574  0.990603  0.342457  0.382008   0.159719   0.728109   \n",
       "10968    0.309474  0.991058  0.388545  0.329413   0.137033   0.745079   \n",
       "10969    0.143381  1.024632  0.441610  0.306938   0.166566   0.669280   \n",
       "10970    0.143381  1.027676  0.459026  0.218546   0.094236   0.716854   \n",
       "\n",
       "       Theta_TP10  Theta_AF7  Delta_AF7  Alpha_TP10  Alpha_AF7  Class  \n",
       "0        0.530501   0.364035   1.137732    1.130165   0.212564      2  \n",
       "1        0.530501   0.364035   1.137732    1.130165   0.212564      2  \n",
       "2        0.530501   0.287083   1.156090    1.130165   0.457129      2  \n",
       "3        0.769166   0.103581   0.867685    1.306648   0.426305      2  \n",
       "4        0.788158   0.210304   0.786956    1.377811   0.456308      2  \n",
       "...           ...        ...        ...         ...        ...    ...  \n",
       "10966    0.818000   0.611749   0.480529    1.064631   0.749836      0  \n",
       "10967    0.762140  -0.141964  -0.027661    1.064631   0.157860      0  \n",
       "10968    0.503118   0.011965   0.148461    0.766170   0.349058      0  \n",
       "10969    0.404191   0.088193   0.190864    0.723669   0.328004      0  \n",
       "10970    0.404191   0.194453   0.348056    0.723669   0.298240      0  \n",
       "\n",
       "[10971 rows x 18 columns]"
      ]
     },
     "execution_count": 4,
     "metadata": {},
     "output_type": "execute_result"
    }
   ],
   "source": [
    "data_df= pd.read_csv(r'E:/NeuroNerds-AdEvaluator/NeuroNerds-AdEvaluator/Project Data/EEG_Data_Classified_Final_with_FA.csv')\n",
    "data_df"
   ]
  },
  {
   "cell_type": "code",
   "execution_count": 5,
   "metadata": {},
   "outputs": [],
   "source": [
    "x= data_df.drop('Class',axis=1)\n",
    "y= data_df['Class']"
   ]
  },
  {
   "cell_type": "code",
   "execution_count": 6,
   "metadata": {},
   "outputs": [
    {
     "data": {
      "text/html": [
       "<div>\n",
       "<style scoped>\n",
       "    .dataframe tbody tr th:only-of-type {\n",
       "        vertical-align: middle;\n",
       "    }\n",
       "\n",
       "    .dataframe tbody tr th {\n",
       "        vertical-align: top;\n",
       "    }\n",
       "\n",
       "    .dataframe thead th {\n",
       "        text-align: right;\n",
       "    }\n",
       "</style>\n",
       "<table border=\"1\" class=\"dataframe\">\n",
       "  <thead>\n",
       "    <tr style=\"text-align: right;\">\n",
       "      <th></th>\n",
       "      <th>Gamma_TP10</th>\n",
       "      <th>Beta_TP10</th>\n",
       "      <th>Gamma_AF8</th>\n",
       "      <th>Gamma_TP9</th>\n",
       "      <th>Delta_TP9</th>\n",
       "      <th>Delta_AF8</th>\n",
       "      <th>Delta_TP10</th>\n",
       "      <th>Beta_TP9</th>\n",
       "      <th>Beta_AF8</th>\n",
       "      <th>Beta_AF7</th>\n",
       "      <th>Gamma_AF7</th>\n",
       "      <th>Theta_TP9</th>\n",
       "      <th>Theta_TP10</th>\n",
       "      <th>Theta_AF7</th>\n",
       "      <th>Delta_AF7</th>\n",
       "      <th>Alpha_TP10</th>\n",
       "      <th>Alpha_AF7</th>\n",
       "    </tr>\n",
       "  </thead>\n",
       "  <tbody>\n",
       "    <tr>\n",
       "      <th>0</th>\n",
       "      <td>0.148266</td>\n",
       "      <td>0.504698</td>\n",
       "      <td>-0.368988</td>\n",
       "      <td>-0.006402</td>\n",
       "      <td>0.751643</td>\n",
       "      <td>1.241092</td>\n",
       "      <td>0.434002</td>\n",
       "      <td>0.572833</td>\n",
       "      <td>0.248280</td>\n",
       "      <td>0.360754</td>\n",
       "      <td>-0.266985</td>\n",
       "      <td>0.432456</td>\n",
       "      <td>0.530501</td>\n",
       "      <td>0.364035</td>\n",
       "      <td>1.137732</td>\n",
       "      <td>1.130165</td>\n",
       "      <td>0.212564</td>\n",
       "    </tr>\n",
       "    <tr>\n",
       "      <th>1</th>\n",
       "      <td>0.148266</td>\n",
       "      <td>0.504698</td>\n",
       "      <td>-0.424164</td>\n",
       "      <td>-0.006402</td>\n",
       "      <td>0.751643</td>\n",
       "      <td>1.299211</td>\n",
       "      <td>0.434002</td>\n",
       "      <td>0.572833</td>\n",
       "      <td>0.295779</td>\n",
       "      <td>0.360754</td>\n",
       "      <td>-0.266985</td>\n",
       "      <td>0.432456</td>\n",
       "      <td>0.530501</td>\n",
       "      <td>0.364035</td>\n",
       "      <td>1.137732</td>\n",
       "      <td>1.130165</td>\n",
       "      <td>0.212564</td>\n",
       "    </tr>\n",
       "    <tr>\n",
       "      <th>2</th>\n",
       "      <td>0.148266</td>\n",
       "      <td>0.504698</td>\n",
       "      <td>-0.389931</td>\n",
       "      <td>-0.006402</td>\n",
       "      <td>0.751643</td>\n",
       "      <td>0.558158</td>\n",
       "      <td>0.434002</td>\n",
       "      <td>0.572833</td>\n",
       "      <td>0.315529</td>\n",
       "      <td>0.194026</td>\n",
       "      <td>-0.343758</td>\n",
       "      <td>0.432456</td>\n",
       "      <td>0.530501</td>\n",
       "      <td>0.287083</td>\n",
       "      <td>1.156090</td>\n",
       "      <td>1.130165</td>\n",
       "      <td>0.457129</td>\n",
       "    </tr>\n",
       "    <tr>\n",
       "      <th>3</th>\n",
       "      <td>0.367339</td>\n",
       "      <td>0.690641</td>\n",
       "      <td>-0.330480</td>\n",
       "      <td>0.246398</td>\n",
       "      <td>0.796775</td>\n",
       "      <td>0.994092</td>\n",
       "      <td>0.549118</td>\n",
       "      <td>0.566725</td>\n",
       "      <td>0.273616</td>\n",
       "      <td>0.265951</td>\n",
       "      <td>-0.295449</td>\n",
       "      <td>0.868472</td>\n",
       "      <td>0.769166</td>\n",
       "      <td>0.103581</td>\n",
       "      <td>0.867685</td>\n",
       "      <td>1.306648</td>\n",
       "      <td>0.426305</td>\n",
       "    </tr>\n",
       "    <tr>\n",
       "      <th>4</th>\n",
       "      <td>0.403797</td>\n",
       "      <td>0.639526</td>\n",
       "      <td>-0.291605</td>\n",
       "      <td>0.266886</td>\n",
       "      <td>0.775548</td>\n",
       "      <td>1.083485</td>\n",
       "      <td>0.519082</td>\n",
       "      <td>0.675240</td>\n",
       "      <td>0.373702</td>\n",
       "      <td>0.222702</td>\n",
       "      <td>-0.302929</td>\n",
       "      <td>0.784558</td>\n",
       "      <td>0.788158</td>\n",
       "      <td>0.210304</td>\n",
       "      <td>0.786956</td>\n",
       "      <td>1.377811</td>\n",
       "      <td>0.456308</td>\n",
       "    </tr>\n",
       "    <tr>\n",
       "      <th>...</th>\n",
       "      <td>...</td>\n",
       "      <td>...</td>\n",
       "      <td>...</td>\n",
       "      <td>...</td>\n",
       "      <td>...</td>\n",
       "      <td>...</td>\n",
       "      <td>...</td>\n",
       "      <td>...</td>\n",
       "      <td>...</td>\n",
       "      <td>...</td>\n",
       "      <td>...</td>\n",
       "      <td>...</td>\n",
       "      <td>...</td>\n",
       "      <td>...</td>\n",
       "      <td>...</td>\n",
       "      <td>...</td>\n",
       "      <td>...</td>\n",
       "    </tr>\n",
       "    <tr>\n",
       "      <th>10966</th>\n",
       "      <td>1.286465</td>\n",
       "      <td>1.295115</td>\n",
       "      <td>0.437843</td>\n",
       "      <td>0.836466</td>\n",
       "      <td>0.986110</td>\n",
       "      <td>0.591422</td>\n",
       "      <td>0.967558</td>\n",
       "      <td>0.954669</td>\n",
       "      <td>0.442463</td>\n",
       "      <td>0.772369</td>\n",
       "      <td>0.777882</td>\n",
       "      <td>0.809593</td>\n",
       "      <td>0.818000</td>\n",
       "      <td>0.611749</td>\n",
       "      <td>0.480529</td>\n",
       "      <td>1.064631</td>\n",
       "      <td>0.749836</td>\n",
       "    </tr>\n",
       "    <tr>\n",
       "      <th>10967</th>\n",
       "      <td>1.283718</td>\n",
       "      <td>1.263483</td>\n",
       "      <td>0.355064</td>\n",
       "      <td>0.948936</td>\n",
       "      <td>0.905541</td>\n",
       "      <td>0.190887</td>\n",
       "      <td>0.845574</td>\n",
       "      <td>0.990603</td>\n",
       "      <td>0.342457</td>\n",
       "      <td>0.382008</td>\n",
       "      <td>0.159719</td>\n",
       "      <td>0.728109</td>\n",
       "      <td>0.762140</td>\n",
       "      <td>-0.141964</td>\n",
       "      <td>-0.027661</td>\n",
       "      <td>1.064631</td>\n",
       "      <td>0.157860</td>\n",
       "    </tr>\n",
       "    <tr>\n",
       "      <th>10968</th>\n",
       "      <td>1.266396</td>\n",
       "      <td>1.067333</td>\n",
       "      <td>0.265158</td>\n",
       "      <td>0.951014</td>\n",
       "      <td>0.927426</td>\n",
       "      <td>0.143809</td>\n",
       "      <td>0.309474</td>\n",
       "      <td>0.991058</td>\n",
       "      <td>0.388545</td>\n",
       "      <td>0.329413</td>\n",
       "      <td>0.137033</td>\n",
       "      <td>0.745079</td>\n",
       "      <td>0.503118</td>\n",
       "      <td>0.011965</td>\n",
       "      <td>0.148461</td>\n",
       "      <td>0.766170</td>\n",
       "      <td>0.349058</td>\n",
       "    </tr>\n",
       "    <tr>\n",
       "      <th>10969</th>\n",
       "      <td>1.202924</td>\n",
       "      <td>1.039346</td>\n",
       "      <td>0.232079</td>\n",
       "      <td>1.041569</td>\n",
       "      <td>0.859555</td>\n",
       "      <td>0.118321</td>\n",
       "      <td>0.143381</td>\n",
       "      <td>1.024632</td>\n",
       "      <td>0.441610</td>\n",
       "      <td>0.306938</td>\n",
       "      <td>0.166566</td>\n",
       "      <td>0.669280</td>\n",
       "      <td>0.404191</td>\n",
       "      <td>0.088193</td>\n",
       "      <td>0.190864</td>\n",
       "      <td>0.723669</td>\n",
       "      <td>0.328004</td>\n",
       "    </tr>\n",
       "    <tr>\n",
       "      <th>10970</th>\n",
       "      <td>1.202924</td>\n",
       "      <td>1.039346</td>\n",
       "      <td>0.041496</td>\n",
       "      <td>1.063996</td>\n",
       "      <td>0.934166</td>\n",
       "      <td>0.046701</td>\n",
       "      <td>0.143381</td>\n",
       "      <td>1.027676</td>\n",
       "      <td>0.459026</td>\n",
       "      <td>0.218546</td>\n",
       "      <td>0.094236</td>\n",
       "      <td>0.716854</td>\n",
       "      <td>0.404191</td>\n",
       "      <td>0.194453</td>\n",
       "      <td>0.348056</td>\n",
       "      <td>0.723669</td>\n",
       "      <td>0.298240</td>\n",
       "    </tr>\n",
       "  </tbody>\n",
       "</table>\n",
       "<p>10971 rows × 17 columns</p>\n",
       "</div>"
      ],
      "text/plain": [
       "       Gamma_TP10  Beta_TP10  Gamma_AF8  Gamma_TP9  Delta_TP9  Delta_AF8  \\\n",
       "0        0.148266   0.504698  -0.368988  -0.006402   0.751643   1.241092   \n",
       "1        0.148266   0.504698  -0.424164  -0.006402   0.751643   1.299211   \n",
       "2        0.148266   0.504698  -0.389931  -0.006402   0.751643   0.558158   \n",
       "3        0.367339   0.690641  -0.330480   0.246398   0.796775   0.994092   \n",
       "4        0.403797   0.639526  -0.291605   0.266886   0.775548   1.083485   \n",
       "...           ...        ...        ...        ...        ...        ...   \n",
       "10966    1.286465   1.295115   0.437843   0.836466   0.986110   0.591422   \n",
       "10967    1.283718   1.263483   0.355064   0.948936   0.905541   0.190887   \n",
       "10968    1.266396   1.067333   0.265158   0.951014   0.927426   0.143809   \n",
       "10969    1.202924   1.039346   0.232079   1.041569   0.859555   0.118321   \n",
       "10970    1.202924   1.039346   0.041496   1.063996   0.934166   0.046701   \n",
       "\n",
       "       Delta_TP10  Beta_TP9  Beta_AF8  Beta_AF7  Gamma_AF7  Theta_TP9  \\\n",
       "0        0.434002  0.572833  0.248280  0.360754  -0.266985   0.432456   \n",
       "1        0.434002  0.572833  0.295779  0.360754  -0.266985   0.432456   \n",
       "2        0.434002  0.572833  0.315529  0.194026  -0.343758   0.432456   \n",
       "3        0.549118  0.566725  0.273616  0.265951  -0.295449   0.868472   \n",
       "4        0.519082  0.675240  0.373702  0.222702  -0.302929   0.784558   \n",
       "...           ...       ...       ...       ...        ...        ...   \n",
       "10966    0.967558  0.954669  0.442463  0.772369   0.777882   0.809593   \n",
       "10967    0.845574  0.990603  0.342457  0.382008   0.159719   0.728109   \n",
       "10968    0.309474  0.991058  0.388545  0.329413   0.137033   0.745079   \n",
       "10969    0.143381  1.024632  0.441610  0.306938   0.166566   0.669280   \n",
       "10970    0.143381  1.027676  0.459026  0.218546   0.094236   0.716854   \n",
       "\n",
       "       Theta_TP10  Theta_AF7  Delta_AF7  Alpha_TP10  Alpha_AF7  \n",
       "0        0.530501   0.364035   1.137732    1.130165   0.212564  \n",
       "1        0.530501   0.364035   1.137732    1.130165   0.212564  \n",
       "2        0.530501   0.287083   1.156090    1.130165   0.457129  \n",
       "3        0.769166   0.103581   0.867685    1.306648   0.426305  \n",
       "4        0.788158   0.210304   0.786956    1.377811   0.456308  \n",
       "...           ...        ...        ...         ...        ...  \n",
       "10966    0.818000   0.611749   0.480529    1.064631   0.749836  \n",
       "10967    0.762140  -0.141964  -0.027661    1.064631   0.157860  \n",
       "10968    0.503118   0.011965   0.148461    0.766170   0.349058  \n",
       "10969    0.404191   0.088193   0.190864    0.723669   0.328004  \n",
       "10970    0.404191   0.194453   0.348056    0.723669   0.298240  \n",
       "\n",
       "[10971 rows x 17 columns]"
      ]
     },
     "execution_count": 6,
     "metadata": {},
     "output_type": "execute_result"
    }
   ],
   "source": [
    "x"
   ]
  },
  {
   "cell_type": "code",
   "execution_count": 7,
   "metadata": {},
   "outputs": [
    {
     "data": {
      "text/plain": [
       "0        2\n",
       "1        2\n",
       "2        2\n",
       "3        2\n",
       "4        2\n",
       "        ..\n",
       "10966    0\n",
       "10967    0\n",
       "10968    0\n",
       "10969    0\n",
       "10970    0\n",
       "Name: Class, Length: 10971, dtype: int64"
      ]
     },
     "execution_count": 7,
     "metadata": {},
     "output_type": "execute_result"
    }
   ],
   "source": [
    "y"
   ]
  },
  {
   "cell_type": "markdown",
   "metadata": {},
   "source": [
    "### Normalizing Data\n",
    "\n",
    "Data Standardization give data zero mean and unit variance, it is good practice, especially for algorithms such as KNN which is based on distance of cases."
   ]
  },
  {
   "cell_type": "code",
   "execution_count": 8,
   "metadata": {},
   "outputs": [],
   "source": [
    "MinMaxScaler = preprocessing.MinMaxScaler()\n",
    "X_minmax = MinMaxScaler.fit_transform(x)"
   ]
  },
  {
   "cell_type": "code",
   "execution_count": null,
   "metadata": {},
   "outputs": [],
   "source": [
    "#X= preprocessing.StandardScaler().fit(x).transform(x.astype(float))\n",
    "#X[0:5]"
   ]
  },
  {
   "cell_type": "code",
   "execution_count": 9,
   "metadata": {},
   "outputs": [
    {
     "name": "stdout",
     "output_type": "stream",
     "text": [
      "Train set: (7679, 17) (7679,)\n",
      "Test set: (3292, 17) (3292,)\n"
     ]
    }
   ],
   "source": [
    "#Train test split\n",
    "x_train, x_test, y_train, y_test= train_test_split(x, y, test_size=0.3, random_state=1, shuffle=True)\n",
    "print ('Train set:', x_train.shape,  y_train.shape)\n",
    "print ('Test set:', x_test.shape,  y_test.shape)"
   ]
  },
  {
   "cell_type": "markdown",
   "metadata": {},
   "source": [
    "### KNN Model"
   ]
  },
  {
   "cell_type": "code",
   "execution_count": 10,
   "metadata": {},
   "outputs": [
    {
     "data": {
      "text/plain": [
       "KNeighborsClassifier()"
      ]
     },
     "execution_count": 10,
     "metadata": {},
     "output_type": "execute_result"
    }
   ],
   "source": [
    "knn_model = KNeighborsClassifier()\n",
    "knn_model.fit(x_train, y_train)"
   ]
  },
  {
   "cell_type": "code",
   "execution_count": 12,
   "metadata": {},
   "outputs": [
    {
     "data": {
      "text/plain": [
       "array([1, 0, 2, ..., 0, 2, 1], dtype=int64)"
      ]
     },
     "execution_count": 12,
     "metadata": {},
     "output_type": "execute_result"
    }
   ],
   "source": [
    " # The predicted output values\n",
    "y_pred_knn = knn_model.predict(x_test)\n",
    "y_pred_knn"
   ]
  },
  {
   "cell_type": "code",
   "execution_count": 13,
   "metadata": {},
   "outputs": [
    {
     "name": "stdout",
     "output_type": "stream",
     "text": [
      "Confusion Matrix:\n",
      "[[1112   25   40]\n",
      " [  46  765  139]\n",
      " [  38  154  973]]\n",
      "Classification Report:\n",
      "              precision    recall  f1-score   support\n",
      "\n",
      "           0       0.93      0.94      0.94      1177\n",
      "           1       0.81      0.81      0.81       950\n",
      "           2       0.84      0.84      0.84      1165\n",
      "\n",
      "    accuracy                           0.87      3292\n",
      "   macro avg       0.86      0.86      0.86      3292\n",
      "weighted avg       0.87      0.87      0.87      3292\n",
      "\n",
      "Accuracy: 0.8657351154313487\n"
     ]
    }
   ],
   "source": [
    "result = confusion_matrix(y_test, y_pred_knn)\n",
    "print(\"Confusion Matrix:\")\n",
    "print(result)\n",
    "\n",
    "result1 = classification_report(y_test, y_pred_knn)\n",
    "print(\"Classification Report:\" ,)\n",
    "print (result1)\n",
    "\n",
    "result2 = accuracy_score(y_test, y_pred_knn)\n",
    "print(\"Accuracy:\", result2)"
   ]
  },
  {
   "cell_type": "code",
   "execution_count": 14,
   "metadata": {},
   "outputs": [
    {
     "name": "stdout",
     "output_type": "stream",
     "text": [
      "[[1112   25   40]\n",
      " [  46  765  139]\n",
      " [  38  154  973]]\n"
     ]
    },
    {
     "data": {
      "image/png": "[encoded data removed]",
      "text/plain": [
       "<Figure size 432x288 with 2 Axes>"
      ]
     },
     "metadata": {
      "needs_background": "light"
     },
     "output_type": "display_data"
    }
   ],
   "source": [
    " # Plot non-normalized confusion matrix\n",
    "plt.figure()\n",
    "plot_confusion_matrix(result, classes=['High=2', 'Medium=1', 'Low=0'], normalize= False,  title='Confusion matrix')"
   ]
  },
  {
   "cell_type": "code",
   "execution_count": 15,
   "metadata": {},
   "outputs": [
    {
     "data": {
      "text/plain": [
       "array([0.92041312, 0.88244228, 0.88517618, 0.86360875, 0.86573512,\n",
       "       0.85328068, 0.85722965, 0.85024301, 0.84781288])"
      ]
     },
     "execution_count": 15,
     "metadata": {},
     "output_type": "execute_result"
    }
   ],
   "source": [
    "from sklearn import metrics\n",
    "\n",
    "# accuracy comparison for different K select\n",
    "k_select= 10\n",
    "mean_acc= np.zeros((k_select-1))\n",
    "std_acc= np.zeros((k_select-1))\n",
    "confusionMx= []\n",
    "\n",
    "for n in range(1,k_select):\n",
    "    knn_model= KNeighborsClassifier(n_neighbors= n).fit(x_train,y_train)\n",
    "    y_pred= knn_model.predict(x_test)\n",
    "    mean_acc[n-1]= metrics.accuracy_score(y_test,y_pred)\n",
    "    \n",
    "    std_acc[n-1]= np.std(y_pred==y_test)/np.sqrt(y_pred.shape[0])\n",
    "    \n",
    "mean_acc"
   ]
  },
  {
   "cell_type": "code",
   "execution_count": 16,
   "metadata": {},
   "outputs": [
    {
     "data": {
      "image/png": "[encoded data removed]",
      "text/plain": [
       "<Figure size 432x288 with 1 Axes>"
      ]
     },
     "metadata": {
      "needs_background": "light"
     },
     "output_type": "display_data"
    }
   ],
   "source": [
    "import matplotlib.pyplot as plt\n",
    "plt.plot(range(1,k_select),mean_acc,'g')\n",
    "plt.fill_between(range(1,k_select),mean_acc - 1 * std_acc,mean_acc + 1 * std_acc, alpha=0.10)\n",
    "plt.legend(('Accuracy ', '+/- 3xstd'))\n",
    "plt.ylabel('Accuracy ')\n",
    "plt.xlabel('Number of Nabors (K)')\n",
    "plt.tight_layout()\n",
    "plt.show()"
   ]
  },
  {
   "cell_type": "code",
   "execution_count": 17,
   "metadata": {},
   "outputs": [
    {
     "data": {
      "text/plain": [
       "0.761129643772144"
      ]
     },
     "execution_count": 17,
     "metadata": {},
     "output_type": "execute_result"
    }
   ],
   "source": [
    "jaccard_score(y_test, y_pred_knn, average='macro') "
   ]
  },
  {
   "cell_type": "code",
   "execution_count": 18,
   "metadata": {},
   "outputs": [
    {
     "data": {
      "text/plain": [
       "0.8616345287895925"
      ]
     },
     "execution_count": 18,
     "metadata": {},
     "output_type": "execute_result"
    }
   ],
   "source": [
    "f1_score(y_test, y_pred_knn, average='macro') "
   ]
  },
  {
   "cell_type": "code",
   "execution_count": 19,
   "metadata": {},
   "outputs": [
    {
     "data": {
      "text/plain": [
       "array([0.94477485, 0.80526316, 0.83519313])"
      ]
     },
     "execution_count": 19,
     "metadata": {},
     "output_type": "execute_result"
    }
   ],
   "source": [
    "recall_score(y_test, y_pred_knn, average=None) "
   ]
  },
  {
   "cell_type": "code",
   "execution_count": 20,
   "metadata": {},
   "outputs": [
    {
     "data": {
      "text/plain": [
       "array([0.92976589, 0.81038136, 0.84461806])"
      ]
     },
     "execution_count": 20,
     "metadata": {},
     "output_type": "execute_result"
    }
   ],
   "source": [
    "precision_score(y_test, y_pred_knn, average=None) "
   ]
  },
  {
   "cell_type": "code",
   "execution_count": 21,
   "metadata": {},
   "outputs": [],
   "source": [
    "pickle.dump(knn_model, open(\"E:/NeuroNerds-AdEvaluator/NeuroNerds-AdEvaluator/Praject Codes/Models/knn_attention_model.pkl\",\"wb\")) "
   ]
  },
  {
   "cell_type": "markdown",
   "metadata": {},
   "source": [
    "### Gaussian Naive Bayes classifier"
   ]
  },
  {
   "cell_type": "code",
   "execution_count": 22,
   "metadata": {},
   "outputs": [
    {
     "data": {
      "text/plain": [
       "array([1, 1, 2, ..., 0, 2, 1], dtype=int64)"
      ]
     },
     "execution_count": 22,
     "metadata": {},
     "output_type": "execute_result"
    }
   ],
   "source": [
    "gnb_model = GaussianNB()\n",
    "gnb_model.fit(x_train, y_train)\n",
    "\n",
    "y_pred_gnb = gnb_model.predict(x_test)\n",
    "y_pred_gnb"
   ]
  },
  {
   "cell_type": "code",
   "execution_count": 23,
   "metadata": {},
   "outputs": [
    {
     "name": "stdout",
     "output_type": "stream",
     "text": [
      "Confusion Matrix:\n",
      "[[809 252 116]\n",
      " [ 37 753 160]\n",
      " [129 514 522]]\n",
      "Classification Report:\n",
      "              precision    recall  f1-score   support\n",
      "\n",
      "           0       0.83      0.69      0.75      1177\n",
      "           1       0.50      0.79      0.61       950\n",
      "           2       0.65      0.45      0.53      1165\n",
      "\n",
      "    accuracy                           0.63      3292\n",
      "   macro avg       0.66      0.64      0.63      3292\n",
      "weighted avg       0.67      0.63      0.63      3292\n",
      "\n",
      "Accuracy: 0.6330498177399757\n"
     ]
    }
   ],
   "source": [
    "result = confusion_matrix(y_test, y_pred_gnb)\n",
    "print(\"Confusion Matrix:\")\n",
    "print(result)\n",
    "\n",
    "result1 = classification_report(y_test, y_pred_gnb)\n",
    "print(\"Classification Report:\" ,)\n",
    "print (result1)\n",
    "\n",
    "result2 = accuracy_score(y_test, y_pred_gnb)\n",
    "print(\"Accuracy:\", result2)"
   ]
  },
  {
   "cell_type": "code",
   "execution_count": 24,
   "metadata": {},
   "outputs": [
    {
     "name": "stdout",
     "output_type": "stream",
     "text": [
      "[[809 252 116]\n",
      " [ 37 753 160]\n",
      " [129 514 522]]\n"
     ]
    },
    {
     "data": {
      "image/png": "[encoded data removed]",
      "text/plain": [
       "<Figure size 432x288 with 2 Axes>"
      ]
     },
     "metadata": {
      "needs_background": "light"
     },
     "output_type": "display_data"
    }
   ],
   "source": [
    "# Plot non-normalized confusion matrix\n",
    "plt.figure()\n",
    "plot_confusion_matrix(result, classes=['High=2', 'Medium=1', 'Low=0'], normalize= False,  title='Confusion matrix')"
   ]
  },
  {
   "cell_type": "code",
   "execution_count": 26,
   "metadata": {},
   "outputs": [
    {
     "data": {
      "text/plain": [
       "0.4678141175458335"
      ]
     },
     "execution_count": 26,
     "metadata": {},
     "output_type": "execute_result"
    }
   ],
   "source": [
    "jaccard_score(y_test, y_pred_gnb, average='macro') "
   ]
  },
  {
   "cell_type": "code",
   "execution_count": 27,
   "metadata": {},
   "outputs": [
    {
     "data": {
      "text/plain": [
       "0.6312204353199554"
      ]
     },
     "execution_count": 27,
     "metadata": {},
     "output_type": "execute_result"
    }
   ],
   "source": [
    "f1_score(y_test, y_pred_gnb, average='macro') "
   ]
  },
  {
   "cell_type": "code",
   "execution_count": 28,
   "metadata": {},
   "outputs": [
    {
     "data": {
      "text/plain": [
       "array([0.6873407 , 0.79263158, 0.44806867])"
      ]
     },
     "execution_count": 28,
     "metadata": {},
     "output_type": "execute_result"
    }
   ],
   "source": [
    "recall_score(y_test, y_pred_gnb, average=None) "
   ]
  },
  {
   "cell_type": "code",
   "execution_count": 29,
   "metadata": {},
   "outputs": [
    {
     "data": {
      "text/plain": [
       "array([0.82974359, 0.49572087, 0.65413534])"
      ]
     },
     "execution_count": 29,
     "metadata": {},
     "output_type": "execute_result"
    }
   ],
   "source": [
    "precision_score(y_test, y_pred_gnb, average=None) "
   ]
  },
  {
   "cell_type": "code",
   "execution_count": 30,
   "metadata": {},
   "outputs": [],
   "source": [
    "pickle.dump(gnb_model, open(\"E:/NeuroNerds-AdEvaluator/NeuroNerds-AdEvaluator/Praject Codes/Models/gnb_attention_model.pkl\",\"wb\")) "
   ]
  },
  {
   "cell_type": "code",
   "execution_count": 31,
   "metadata": {},
   "outputs": [],
   "source": [
    "#model= pickle.load(open('E:/NeuroNerds-AdEvaluator/NeuroNerds-AdEvaluator/Praject Codes/Models/gnb_attention_model.pkl','rb')) "
   ]
  },
  {
   "cell_type": "markdown",
   "metadata": {},
   "source": [
    "### Logistic Regression"
   ]
  },
  {
   "cell_type": "markdown",
   "metadata": {},
   "source": [
    "Here I am using LogisticRegression from Scikit-learn package. This function implements logistic regression and can use different numerical optimizers to find parameters, including ‘newton-cg’, ‘lbfgs’, ‘liblinear’, ‘sag’, ‘saga’ solvers. You can find extensive information about the pros and cons of these optimizers if you search it in internet.The version of Logistic Regression in Scikit-learn, support regularization. Regularization is a technique used to solve the overfitting problem in machine learning models. C parameter indicates inverse of regularization strength which must be a positive float. Smaller values specify stronger regularization."
   ]
  },
  {
   "cell_type": "code",
   "execution_count": 32,
   "metadata": {},
   "outputs": [
    {
     "data": {
      "text/plain": [
       "array([1, 0, 2, ..., 0, 2, 2], dtype=int64)"
      ]
     },
     "execution_count": 32,
     "metadata": {},
     "output_type": "execute_result"
    }
   ],
   "source": [
    "logreg_model = LogisticRegression(solver='lbfgs', multi_class='auto')\n",
    "logreg_model.fit(x_train, y_train)\n",
    "\n",
    "y_pred_logreg = logreg_model.predict(x_test)\n",
    "y_pred_logreg"
   ]
  },
  {
   "cell_type": "code",
   "execution_count": 33,
   "metadata": {},
   "outputs": [
    {
     "data": {
      "text/plain": [
       "array([[0.0762378 , 0.73095607, 0.19280613],\n",
       "       [0.52894773, 0.18729896, 0.28375331],\n",
       "       [0.04935644, 0.2879649 , 0.66267866],\n",
       "       ...,\n",
       "       [0.87937058, 0.0087112 , 0.11191822],\n",
       "       [0.02203609, 0.04583312, 0.93213079],\n",
       "       [0.05366931, 0.34715095, 0.59917974]])"
      ]
     },
     "execution_count": 33,
     "metadata": {},
     "output_type": "execute_result"
    }
   ],
   "source": [
    "y_pred_logreg_prob = logreg_model.predict_proba(x_test)\n",
    "y_pred_logreg_prob"
   ]
  },
  {
   "cell_type": "code",
   "execution_count": 34,
   "metadata": {},
   "outputs": [
    {
     "name": "stdout",
     "output_type": "stream",
     "text": [
      "Confusion Matrix:\n",
      "[[1011   67   99]\n",
      " [  90  617  243]\n",
      " [ 110  232  823]]\n",
      "Classification Report:\n",
      "              precision    recall  f1-score   support\n",
      "\n",
      "           0       0.83      0.86      0.85      1177\n",
      "           1       0.67      0.65      0.66       950\n",
      "           2       0.71      0.71      0.71      1165\n",
      "\n",
      "    accuracy                           0.74      3292\n",
      "   macro avg       0.74      0.74      0.74      3292\n",
      "weighted avg       0.74      0.74      0.74      3292\n",
      "\n",
      "Accuracy: 0.7445321992709599\n"
     ]
    }
   ],
   "source": [
    "result = confusion_matrix(y_test, y_pred_logreg)\n",
    "print(\"Confusion Matrix:\")\n",
    "print(result)\n",
    "\n",
    "result1 = classification_report(y_test, y_pred_logreg)\n",
    "print(\"Classification Report:\" ,)\n",
    "print (result1)\n",
    "\n",
    "result2 = accuracy_score(y_test, y_pred_logreg)\n",
    "print(\"Accuracy:\", result2)"
   ]
  },
  {
   "cell_type": "code",
   "execution_count": 35,
   "metadata": {},
   "outputs": [
    {
     "name": "stdout",
     "output_type": "stream",
     "text": [
      "[[1011   67   99]\n",
      " [  90  617  243]\n",
      " [ 110  232  823]]\n"
     ]
    },
    {
     "data": {
      "image/png": "[encoded data removed]",
      "text/plain": [
       "<Figure size 432x288 with 2 Axes>"
      ]
     },
     "metadata": {
      "needs_background": "light"
     },
     "output_type": "display_data"
    }
   ],
   "source": [
    "# Plot non-normalized confusion matrix\n",
    "plt.figure()\n",
    "plot_confusion_matrix(result, classes=['High=2', 'Medium=1', 'Low=0'], normalize= False,  title='Confusion matrix')"
   ]
  },
  {
   "cell_type": "code",
   "execution_count": 36,
   "metadata": {},
   "outputs": [
    {
     "data": {
      "text/plain": [
       "0.5914393682154764"
      ]
     },
     "execution_count": 36,
     "metadata": {},
     "output_type": "execute_result"
    }
   ],
   "source": [
    "jaccard_score(y_test, y_pred_logreg, average='macro') "
   ]
  },
  {
   "cell_type": "code",
   "execution_count": 37,
   "metadata": {},
   "outputs": [
    {
     "data": {
      "text/plain": [
       "0.7381596821475721"
      ]
     },
     "execution_count": 37,
     "metadata": {},
     "output_type": "execute_result"
    }
   ],
   "source": [
    "f1_score(y_test, y_pred_logreg, average='macro') "
   ]
  },
  {
   "cell_type": "code",
   "execution_count": 38,
   "metadata": {},
   "outputs": [
    {
     "data": {
      "text/plain": [
       "array([0.85896347, 0.64947368, 0.70643777])"
      ]
     },
     "execution_count": 38,
     "metadata": {},
     "output_type": "execute_result"
    }
   ],
   "source": [
    "recall_score(y_test, y_pred_logreg, average=None) "
   ]
  },
  {
   "cell_type": "code",
   "execution_count": 39,
   "metadata": {},
   "outputs": [
    {
     "data": {
      "text/plain": [
       "array([0.83484723, 0.67358079, 0.70643777])"
      ]
     },
     "execution_count": 39,
     "metadata": {},
     "output_type": "execute_result"
    }
   ],
   "source": [
    "precision_score(y_test, y_pred_logreg, average=None) "
   ]
  },
  {
   "cell_type": "code",
   "execution_count": 40,
   "metadata": {},
   "outputs": [],
   "source": [
    "pickle.dump(logreg_model, open(\"E:/NeuroNerds-AdEvaluator/NeuroNerds-AdEvaluator/Praject Codes/Models/logreg_attention_model.pkl\",\"wb\")) "
   ]
  },
  {
   "cell_type": "code",
   "execution_count": 41,
   "metadata": {},
   "outputs": [],
   "source": [
    "#model= pickle.load(open('E:/NeuroNerds-AdEvaluator/NeuroNerds-AdEvaluator/Praject Codes/Models/logreg_attention_model.pkl','rb'))  "
   ]
  },
  {
   "cell_type": "markdown",
   "metadata": {},
   "source": [
    "### C-support Vector Classification "
   ]
  },
  {
   "cell_type": "markdown",
   "metadata": {},
   "source": [
    "The mathematical function used for the transformation is known as the kernel function, and can be of different types, such as:\n",
    "\n",
    "1.Linear\n",
    "2.Polynomial\n",
    "3.Radial basis function (RBF)\n",
    "4.Sigmoid\n",
    "\n",
    "Each of these functions has its characteristics, its pros and cons, and its equation, but as there's no easy way of knowing which function performs best with any given dataset, we usually choose different functions in turn and compare the results. Let's just use the default, RBF (Radial Basis Function)"
   ]
  },
  {
   "cell_type": "code",
   "execution_count": 46,
   "metadata": {},
   "outputs": [
    {
     "data": {
      "text/plain": [
       "array([1, 0, 2, 0, 2], dtype=int64)"
      ]
     },
     "execution_count": 46,
     "metadata": {},
     "output_type": "execute_result"
    }
   ],
   "source": [
    "csvc_model = SVC(C=50, kernel='rbf', gamma=1) \n",
    "csvc_model.fit(x_train,y_train)\n",
    "\n",
    "y_pred_svc = csvc_model.predict(x_test)\n",
    "y_pred_svc[0:5]"
   ]
  },
  {
   "cell_type": "code",
   "execution_count": 47,
   "metadata": {},
   "outputs": [
    {
     "name": "stdout",
     "output_type": "stream",
     "text": [
      "Confusion Matrix:\n",
      "[[1152    7   18]\n",
      " [  29  820  101]\n",
      " [  34   84 1047]]\n",
      "Classification Report:\n",
      "              precision    recall  f1-score   support\n",
      "\n",
      "           0       0.95      0.98      0.96      1177\n",
      "           1       0.90      0.86      0.88       950\n",
      "           2       0.90      0.90      0.90      1165\n",
      "\n",
      "    accuracy                           0.92      3292\n",
      "   macro avg       0.92      0.91      0.91      3292\n",
      "weighted avg       0.92      0.92      0.92      3292\n",
      "\n",
      "Accuracy: 0.9170716889428918\n"
     ]
    }
   ],
   "source": [
    "result = confusion_matrix(y_test, y_pred_svc)\n",
    "print(\"Confusion Matrix:\")\n",
    "print(result)\n",
    "\n",
    "result1 = classification_report(y_test, y_pred_svc)\n",
    "print(\"Classification Report:\" ,)\n",
    "print (result1)\n",
    "\n",
    "result2 = accuracy_score(y_test, y_pred_svc)\n",
    "print(\"Accuracy:\", result2)"
   ]
  },
  {
   "cell_type": "code",
   "execution_count": 48,
   "metadata": {},
   "outputs": [
    {
     "name": "stdout",
     "output_type": "stream",
     "text": [
      "[[1152    7   18]\n",
      " [  29  820  101]\n",
      " [  34   84 1047]]\n"
     ]
    },
    {
     "data": {
      "image/png": "[encoded data removed]",
      "text/plain": [
       "<Figure size 432x288 with 2 Axes>"
      ]
     },
     "metadata": {
      "needs_background": "light"
     },
     "output_type": "display_data"
    }
   ],
   "source": [
    "# Plot non-normalized confusion matrix\n",
    "plt.figure()\n",
    "plot_confusion_matrix(result, classes=['High=2', 'Medium=1', 'Low=0'], normalize= False,  title='Confusion matrix')"
   ]
  },
  {
   "cell_type": "code",
   "execution_count": 49,
   "metadata": {},
   "outputs": [
    {
     "data": {
      "text/plain": [
       "0.9142614140861928"
      ]
     },
     "execution_count": 49,
     "metadata": {},
     "output_type": "execute_result"
    }
   ],
   "source": [
    "f1_score(y_test, y_pred_svc, average='macro') "
   ]
  },
  {
   "cell_type": "code",
   "execution_count": 50,
   "metadata": {},
   "outputs": [
    {
     "data": {
      "text/plain": [
       "array([0.97875956, 0.86315789, 0.89871245])"
      ]
     },
     "execution_count": 50,
     "metadata": {},
     "output_type": "execute_result"
    }
   ],
   "source": [
    "recall_score(y_test, y_pred_svc, average=None) "
   ]
  },
  {
   "cell_type": "code",
   "execution_count": 51,
   "metadata": {},
   "outputs": [
    {
     "data": {
      "text/plain": [
       "array([0.94814815, 0.90010977, 0.89794168])"
      ]
     },
     "execution_count": 51,
     "metadata": {},
     "output_type": "execute_result"
    }
   ],
   "source": [
    "precision_score(y_test, y_pred_svc, average=None) "
   ]
  },
  {
   "cell_type": "markdown",
   "metadata": {},
   "source": [
    "Compare diffetent kernal of Liner, Sigmoid, and Polynomial"
   ]
  },
  {
   "cell_type": "code",
   "execution_count": 53,
   "metadata": {},
   "outputs": [
    {
     "name": "stdout",
     "output_type": "stream",
     "text": [
      "Avg F1-score of svm kernal funtion Liner model: 0.7455\n",
      "Jaccard score'of svm kernal funtion Liner model:: 0.6008\n"
     ]
    }
   ],
   "source": [
    "# change  kernal funtion and compair accuracy\n",
    "svc_model_2 = SVC(kernel='linear')\n",
    "\n",
    "svc_model_2.fit(x_train, y_train)\n",
    "y_predict_2 = svc_model_2.predict(x_test)\n",
    "\n",
    "print(\"Avg F1-score of svm kernal funtion Liner model: %.4f\" % f1_score(y_test, y_predict_2, average='macro'))\n",
    "print(\"Jaccard score'of svm kernal funtion Liner model:: %.4f\" % jaccard_score(y_test, y_predict_2, average='macro'))"
   ]
  },
  {
   "cell_type": "code",
   "execution_count": 54,
   "metadata": {},
   "outputs": [
    {
     "name": "stdout",
     "output_type": "stream",
     "text": [
      "Avg F1-score of svm kernal funtion Sigmoid model: 0.3139\n",
      "Jaccard score'of svm kernal funtion Sigmoid model:: 0.1962\n"
     ]
    }
   ],
   "source": [
    "# change  kernal funtion and compair accuracy\n",
    "svc_model_3 = SVC(kernel='sigmoid') \n",
    "\n",
    "svc_model_3.fit(x_train, y_train) \n",
    "y_predict_3 = svc_model_3.predict(x_test)\n",
    "\n",
    "print(\"Avg F1-score of svm kernal funtion Sigmoid model: %.4f\" % f1_score(y_test, y_predict_3, average='macro'))\n",
    "print(\"Jaccard score'of svm kernal funtion Sigmoid model:: %.4f\" % jaccard_score(y_test, y_predict_3, average='macro'))"
   ]
  },
  {
   "cell_type": "code",
   "execution_count": 55,
   "metadata": {},
   "outputs": [
    {
     "name": "stdout",
     "output_type": "stream",
     "text": [
      "Avg F1-score of svm kernal funtion Polynomial model: 0.7902\n",
      "Jaccard score'of svm kernal funtion Polynomial model:: 0.6591\n"
     ]
    }
   ],
   "source": [
    "# change  kernal funtion and compair accuracy\n",
    "svc_model_4 = SVC(kernel='poly', degree=2)\n",
    "\n",
    "svc_model_4.fit(x_train, y_train) \n",
    "y_predict_4 = svc_model_4.predict(x_test)\n",
    "\n",
    "print(\"Avg F1-score of svm kernal funtion Polynomial model: %.4f\" % f1_score(y_test, y_predict_4, average='macro'))\n",
    "print(\"Jaccard score'of svm kernal funtion Polynomial model:: %.4f\" % jaccard_score(y_test, y_predict_4, average='macro'))"
   ]
  },
  {
   "cell_type": "code",
   "execution_count": 56,
   "metadata": {},
   "outputs": [],
   "source": [
    "pickle.dump(csvc_model, open(\"E:/NeuroNerds-AdEvaluator/NeuroNerds-AdEvaluator/Praject Codes/Models/svc_model_attention_model.pkl\",\"wb\"))  "
   ]
  },
  {
   "cell_type": "code",
   "execution_count": 57,
   "metadata": {},
   "outputs": [],
   "source": [
    "#model= pickle.load(open('E:/NeuroNerds-AdEvaluator/NeuroNerds-AdEvaluator/Praject Codes/Models/svc_model_attention_model.pkl','rb'))  "
   ]
  },
  {
   "cell_type": "markdown",
   "metadata": {},
   "source": [
    "### Random Forest Model"
   ]
  },
  {
   "cell_type": "code",
   "execution_count": 58,
   "metadata": {},
   "outputs": [
    {
     "data": {
      "text/plain": [
       "array([1, 0, 2, 0, 0], dtype=int64)"
      ]
     },
     "execution_count": 58,
     "metadata": {},
     "output_type": "execute_result"
    }
   ],
   "source": [
    "Rf_model = RandomForestClassifier(n_estimators=100, max_depth=2, criterion = 'entropy', random_state=0)\n",
    "Rf_model.fit(x_train, y_train)\n",
    "\n",
    "y_predict_Rf = Rf_model.predict(x_test)\n",
    "y_predict_Rf[0:5]"
   ]
  },
  {
   "cell_type": "code",
   "execution_count": 59,
   "metadata": {},
   "outputs": [
    {
     "name": "stdout",
     "output_type": "stream",
     "text": [
      "Confusion Matrix:\n",
      "[[975  86 116]\n",
      " [149 468 333]\n",
      " [207 176 782]]\n",
      "Classification Report:\n",
      "              precision    recall  f1-score   support\n",
      "\n",
      "           0       0.73      0.83      0.78      1177\n",
      "           1       0.64      0.49      0.56       950\n",
      "           2       0.64      0.67      0.65      1165\n",
      "\n",
      "    accuracy                           0.68      3292\n",
      "   macro avg       0.67      0.66      0.66      3292\n",
      "weighted avg       0.67      0.68      0.67      3292\n",
      "\n",
      "Accuracy: 0.6758809234507898\n"
     ]
    }
   ],
   "source": [
    "result = confusion_matrix(y_test, y_predict_Rf)\n",
    "print(\"Confusion Matrix:\")\n",
    "print(result)\n",
    "\n",
    "result1 = classification_report(y_test, y_predict_Rf)\n",
    "print(\"Classification Report:\" ,)\n",
    "print (result1)\n",
    "\n",
    "result2 = accuracy_score(y_test, y_predict_Rf)\n",
    "print(\"Accuracy:\", result2)"
   ]
  },
  {
   "cell_type": "code",
   "execution_count": 60,
   "metadata": {},
   "outputs": [
    {
     "name": "stdout",
     "output_type": "stream",
     "text": [
      "[[975  86 116]\n",
      " [149 468 333]\n",
      " [207 176 782]]\n"
     ]
    },
    {
     "data": {
      "image/png": "[encoded data removed]",
      "text/plain": [
       "<Figure size 432x288 with 2 Axes>"
      ]
     },
     "metadata": {
      "needs_background": "light"
     },
     "output_type": "display_data"
    }
   ],
   "source": [
    "# Plot non-normalized confusion matrix\n",
    "plt.figure()\n",
    "plot_confusion_matrix(result, classes=['High=2', 'Medium=1', 'Low=0'], normalize= False,  title='Confusion matrix')"
   ]
  },
  {
   "cell_type": "code",
   "execution_count": 61,
   "metadata": {},
   "outputs": [
    {
     "data": {
      "text/plain": [
       "0.6624698032834401"
      ]
     },
     "execution_count": 61,
     "metadata": {},
     "output_type": "execute_result"
    }
   ],
   "source": [
    "f1_score(y_test, y_predict_Rf, average='macro')  "
   ]
  },
  {
   "cell_type": "code",
   "execution_count": 62,
   "metadata": {},
   "outputs": [
    {
     "data": {
      "text/plain": [
       "0.5022189914959021"
      ]
     },
     "execution_count": 62,
     "metadata": {},
     "output_type": "execute_result"
    }
   ],
   "source": [
    "jaccard_score(y_test, y_predict_Rf, average='macro') "
   ]
  },
  {
   "cell_type": "code",
   "execution_count": null,
   "metadata": {},
   "outputs": [],
   "source": [
    "recall_score(y_test, y_predict_Rf, average=None) "
   ]
  },
  {
   "cell_type": "code",
   "execution_count": null,
   "metadata": {},
   "outputs": [],
   "source": [
    "precision_score(y_test, y_predict_Rf, average=None) "
   ]
  },
  {
   "cell_type": "code",
   "execution_count": 63,
   "metadata": {},
   "outputs": [],
   "source": [
    "pickle.dump(Rf_model, open(\"E:/NeuroNerds-AdEvaluator/NeuroNerds-AdEvaluator/Praject Codes/Models/Rf_attention_model.pkl\",\"wb\")) "
   ]
  },
  {
   "cell_type": "code",
   "execution_count": 64,
   "metadata": {},
   "outputs": [],
   "source": [
    "#model= pickle.load(open('E:/NeuroNerds-AdEvaluator/NeuroNerds-AdEvaluator/Praject Codes/Models/Rf_attention_model.pkl','rb')) "
   ]
  },
  {
   "cell_type": "markdown",
   "metadata": {},
   "source": [
    "### Decision tree classifier"
   ]
  },
  {
   "cell_type": "code",
   "execution_count": 65,
   "metadata": {},
   "outputs": [
    {
     "data": {
      "text/plain": [
       "array([1, 0, 2, ..., 0, 2, 2], dtype=int64)"
      ]
     },
     "execution_count": 65,
     "metadata": {},
     "output_type": "execute_result"
    }
   ],
   "source": [
    "dt_model = DecisionTreeClassifier()\n",
    "dt_model.fit(x_train, y_train)\n",
    "\n",
    "y_pred_dt = dt_model.predict(x_test)\n",
    "y_pred_dt"
   ]
  },
  {
   "cell_type": "code",
   "execution_count": 66,
   "metadata": {},
   "outputs": [
    {
     "name": "stdout",
     "output_type": "stream",
     "text": [
      "Confusion Matrix:\n",
      "[[1063   47   67]\n",
      " [  84  666  200]\n",
      " [  82  205  878]]\n",
      "Classification Report:\n",
      "              precision    recall  f1-score   support\n",
      "\n",
      "           0       0.86      0.90      0.88      1177\n",
      "           1       0.73      0.70      0.71       950\n",
      "           2       0.77      0.75      0.76      1165\n",
      "\n",
      "    accuracy                           0.79      3292\n",
      "   macro avg       0.79      0.79      0.79      3292\n",
      "weighted avg       0.79      0.79      0.79      3292\n",
      "\n",
      "Accuracy: 0.7919198055893074\n"
     ]
    }
   ],
   "source": [
    "result = confusion_matrix(y_test, y_pred_dt)\n",
    "print(\"Confusion Matrix:\")\n",
    "print(result)\n",
    "\n",
    "result1 = classification_report(y_test, y_pred_dt)\n",
    "print(\"Classification Report:\" ,)\n",
    "print (result1)\n",
    "\n",
    "result2 = accuracy_score(y_test, y_pred_dt)\n",
    "print(\"Accuracy:\", result2)"
   ]
  },
  {
   "cell_type": "code",
   "execution_count": 67,
   "metadata": {},
   "outputs": [
    {
     "name": "stdout",
     "output_type": "stream",
     "text": [
      "[[1063   47   67]\n",
      " [  84  666  200]\n",
      " [  82  205  878]]\n"
     ]
    },
    {
     "data": {
      "image/png": "[encoded data removed]",
      "text/plain": [
       "<Figure size 432x288 with 2 Axes>"
      ]
     },
     "metadata": {
      "needs_background": "light"
     },
     "output_type": "display_data"
    }
   ],
   "source": [
    " # Plot non-normalized confusion matrix\n",
    "plt.figure()\n",
    "plot_confusion_matrix(result, classes=['High=2', 'Medium=1', 'Low=0'], normalize= False,  title='Confusion matrix')"
   ]
  },
  {
   "cell_type": "code",
   "execution_count": 68,
   "metadata": {},
   "outputs": [
    {
     "data": {
      "text/plain": [
       "0.6529055240156668"
      ]
     },
     "execution_count": 68,
     "metadata": {},
     "output_type": "execute_result"
    }
   ],
   "source": [
    "jaccard_score(y_test, y_pred_dt, average='macro') "
   ]
  },
  {
   "cell_type": "code",
   "execution_count": 69,
   "metadata": {},
   "outputs": [
    {
     "data": {
      "text/plain": [
       "0.7856198437753118"
      ]
     },
     "execution_count": 69,
     "metadata": {},
     "output_type": "execute_result"
    }
   ],
   "source": [
    "f1_score(y_test, y_pred_dt, average='macro') "
   ]
  },
  {
   "cell_type": "code",
   "execution_count": 70,
   "metadata": {},
   "outputs": [
    {
     "data": {
      "text/plain": [
       "array([0.90314359, 0.70105263, 0.75364807])"
      ]
     },
     "execution_count": 70,
     "metadata": {},
     "output_type": "execute_result"
    }
   ],
   "source": [
    "recall_score(y_test, y_pred_dt, average=None) "
   ]
  },
  {
   "cell_type": "code",
   "execution_count": 71,
   "metadata": {},
   "outputs": [
    {
     "data": {
      "text/plain": [
       "array([0.86493084, 0.7254902 , 0.76681223])"
      ]
     },
     "execution_count": 71,
     "metadata": {},
     "output_type": "execute_result"
    }
   ],
   "source": [
    "precision_score(y_test, y_pred_dt, average=None) "
   ]
  },
  {
   "cell_type": "code",
   "execution_count": 72,
   "metadata": {},
   "outputs": [],
   "source": [
    "pickle.dump(dt_model, open(\"E:/NeuroNerds-AdEvaluator/NeuroNerds-AdEvaluator/Praject Codes/Models/DT_attention_model.pkl\",\"wb\")) "
   ]
  },
  {
   "cell_type": "code",
   "execution_count": 73,
   "metadata": {},
   "outputs": [],
   "source": [
    "#model= pickle.load(open('E:/NeuroNerds-AdEvaluator/NeuroNerds-AdEvaluator/Praject Codes/Models/DT_attention_model.pkl','rb')) "
   ]
  }
 ],
 "metadata": {
  "interpreter": {
   "hash": "fdbdd4796245e4d55e5ced76e95251d8cf54b1cc30f93eae2935307bb3fb16da"
  },
  "kernelspec": {
   "display_name": "Python 3.7.4 64-bit ('prabha_eeg': conda)",
   "language": "python",
   "name": "python3"
  },
  "language_info": {
   "codemirror_mode": {
    "name": "ipython",
    "version": 3
   },
   "file_extension": ".py",
   "mimetype": "text/x-python",
   "name": "python",
   "nbconvert_exporter": "python",
   "pygments_lexer": "ipython3",
   "version": "3.7.4"
  },
  "orig_nbformat": 4
 },
 "nbformat": 4,
 "nbformat_minor": 2
}
